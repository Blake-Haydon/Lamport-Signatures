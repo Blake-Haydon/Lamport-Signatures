{
 "cells": [
  {
   "cell_type": "code",
   "execution_count": 1,
   "metadata": {},
   "outputs": [],
   "source": [
    "import hashlib\n",
    "import secrets"
   ]
  },
  {
   "attachments": {},
   "cell_type": "markdown",
   "metadata": {},
   "source": [
    "## Naive Lamport Signature\n",
    "\n",
    "This is a basic implementation of the original Lamport Signatures paper with uncompressed public and private keys. The private key is a 256 bit random number and the public key is a 256 bit hash of the private key. The signature is a 256 bit hash of the message and the private key.\n",
    "\n",
    "### Example: 3 Bit Keypair Generation \n",
    "\n",
    "![3 Bit Keypair Generation](./images/3_bit_keypair.png)\n",
    "\n",
    "### Example: 3 Bit Message Signing\n",
    "\n",
    "![3 Bit Message Signing](./images/3_bit_signing.png)\n",
    "\n",
    "### Example: 3 Bit Signature Verification\n",
    "\n",
    "![3 Bit Signature Verification](./images/3_bit_verification.png)"
   ]
  },
  {
   "cell_type": "code",
   "execution_count": 2,
   "metadata": {},
   "outputs": [],
   "source": [
    "####### CONSTANTS #######\n",
    "\n",
    "# Provides roughly 128 bits of security (see Grover's algorithm)\n",
    "security_parameter = 256\n",
    "\n",
    "# Max message length that the private key can sign\n",
    "max_message_length = 256"
   ]
  },
  {
   "attachments": {},
   "cell_type": "markdown",
   "metadata": {},
   "source": [
    "### Helper Functions"
   ]
  },
  {
   "cell_type": "code",
   "execution_count": 3,
   "metadata": {},
   "outputs": [],
   "source": [
    "def hash_key_element(key_element: int) -> bytes:\n",
    "    '''Hashes a single key element, producing a 256-bit digest'''\n",
    "\n",
    "    bytes_length = security_parameter // 8\n",
    "    return hashlib.sha3_256(key_element.to_bytes(\n",
    "        length=bytes_length,\n",
    "        byteorder=\"big\",\n",
    "    )).digest()\n",
    "\n",
    "\n",
    "def hash_message(message: str) -> bytes:\n",
    "    '''Hashes a message using SHA3-256'''\n",
    "\n",
    "    return hashlib.sha3_256(message.encode()).digest()\n",
    "\n",
    "\n",
    "def choose_key_elements(message_hash: bytes, key: list) -> list:\n",
    "    '''Chooses the key elements depending on input message hash bits (either 1 or 0)'''\n",
    "    \n",
    "    output = []\n",
    "    for i in range(max_message_length // 8):\n",
    "        for j in range(8):\n",
    "            bit_index = i * 8 + j\n",
    "            bit_mask = 0b10000000 >> j\n",
    "\n",
    "            # Determine which key to use based on the message hash bit\n",
    "            key_bit = int(message_hash[i] & bit_mask != 0) # either 0 or 1\n",
    "            key_index = 2*bit_index + key_bit\n",
    "            \n",
    "            # Add the key elements to output\n",
    "            output.append(key[key_index])\n",
    "\n",
    "    return output"
   ]
  },
  {
   "attachments": {},
   "cell_type": "markdown",
   "metadata": {},
   "source": [
    "### Naive Lamport Signature Functions\n",
    "\n",
    "The functions below provide the interface to generate a keypair and sign a message.\n",
    "\n",
    "### Key Size Comparison\n",
    "\n",
    "| Scheme | Private Key | Public Key | Total Size |\n",
    "| --- | --- | --- | --- |\n",
    "| Lamport: Naive  | $32 * 256 = 8192$ bytes | $32 * 256 = 8192$ bytes | $16384$ bytes |\n",
    "\n",
    "### Signature Size Comparison\n",
    "\n",
    "| Scheme | Signature |\n",
    "| --- | --- |\n",
    "| Lamport: Naive  | $32 * 256 = 8192$ bytes |\n"
   ]
  },
  {
   "cell_type": "code",
   "execution_count": 4,
   "metadata": {},
   "outputs": [],
   "source": [
    "PrivateKey = list[int]\n",
    "PublicKey = list[bytes]\n",
    "Signature = list[int]\n",
    "\n",
    "def generate_private_key() -> PrivateKey:\n",
    "    '''Generates a private Lamport key'''\n",
    "\n",
    "    # Generate the private key from random bits\n",
    "    return [secrets.randbits(security_parameter) for _ in range(2 * max_message_length)]\n",
    "\n",
    "\n",
    "def generate_public_key(private_key: PrivateKey) -> PublicKey:\n",
    "    '''Generates a public Lamport key from a private key'''\n",
    "\n",
    "    # Generate public key by hashing each private key element\n",
    "    return list(map(hash_key_element, private_key))\n",
    "\n",
    "\n",
    "def generate_keypair() -> tuple[PublicKey, PrivateKey]:\n",
    "    '''Generates a public and private Lamport keypair'''\n",
    "\n",
    "    # Generate the private key from random bits\n",
    "    private_key = generate_private_key()\n",
    "\n",
    "    # Generate public key by hashing each private key element\n",
    "    public_key = generate_public_key(private_key)\n",
    "\n",
    "    return (public_key, private_key)\n",
    "\n",
    "\n",
    "def sign_message(message: str, private_key: PublicKey) -> Signature:\n",
    "    '''Signs a message with a Lamport private key'''\n",
    "\n",
    "    # Hash the message and then commit to that hash using the private key\n",
    "    message_hash = hash_message(message)\n",
    "\n",
    "    # Choose private key elements depending on the bits of the message hash\n",
    "    return choose_key_elements(message_hash, private_key)\n",
    "\n",
    "\n",
    "def verify_signature(message: str, public_key: PublicKey, signature: Signature) -> bool:\n",
    "    '''Verifies a Lamport signature'''\n",
    "    \n",
    "    # Hash the message and then check that the hash of the signature matches the public key\n",
    "    message_hash = hash_message(message)\n",
    "\n",
    "    chosen_signature_hashes = choose_key_elements(message_hash, public_key)\n",
    "    derived_signature_hashes = list(map(hash_key_element, signature))\n",
    "\n",
    "    return chosen_signature_hashes == derived_signature_hashes"
   ]
  },
  {
   "cell_type": "code",
   "execution_count": 5,
   "metadata": {},
   "outputs": [
    {
     "name": "stdout",
     "output_type": "stream",
     "text": [
      "Signature is correct!\n"
     ]
    }
   ],
   "source": [
    "signed_string = \"Hello, world!\"\n",
    "public_key, private_key = generate_keypair()\n",
    "signature = sign_message(signed_string, private_key)\n",
    "if verify_signature(signed_string, public_key, signature):\n",
    "    print(\"Signature is correct!\")\n",
    "else:\n",
    "    print(\"Signature is incorrect!\")"
   ]
  },
  {
   "cell_type": "code",
   "execution_count": 6,
   "metadata": {},
   "outputs": [
    {
     "name": "stdout",
     "output_type": "stream",
     "text": [
      "Forgery is incorrect!\n"
     ]
    }
   ],
   "source": [
    "# Try and forge a signature by using the same private key for a different message\n",
    "random_signature = [secrets.randbits(security_parameter) for _ in range(2 * max_message_length)]\n",
    "if verify_signature(signed_string, public_key, random_signature):\n",
    "    print(\"Forgery is correct!\")\n",
    "else:\n",
    "    print(\"Forgery is incorrect!\")"
   ]
  }
 ],
 "metadata": {
  "kernelspec": {
   "display_name": "Python 3",
   "language": "python",
   "name": "python3"
  },
  "language_info": {
   "codemirror_mode": {
    "name": "ipython",
    "version": 3
   },
   "file_extension": ".py",
   "mimetype": "text/x-python",
   "name": "python",
   "nbconvert_exporter": "python",
   "pygments_lexer": "ipython3",
   "version": "3.10.4"
  },
  "orig_nbformat": 4,
  "vscode": {
   "interpreter": {
    "hash": "2ab98c4b59af728aa8bd9922870b996a7fc5861c87b81242319b92eec59b5fef"
   }
  }
 },
 "nbformat": 4,
 "nbformat_minor": 2
}
