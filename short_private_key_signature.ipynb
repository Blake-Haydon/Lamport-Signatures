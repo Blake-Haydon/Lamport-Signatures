{
 "cells": [
  {
   "cell_type": "code",
   "execution_count": 113,
   "metadata": {},
   "outputs": [],
   "source": [
    "import hashlib\n",
    "import secrets\n",
    "from cryptography.hazmat.primitives.ciphers import Cipher, algorithms, modes"
   ]
  },
  {
   "attachments": {},
   "cell_type": "markdown",
   "metadata": {},
   "source": [
    "# Short Private Keys\n",
    "\n",
    "Instead of generating private keys using 256 random numbers we can instead seed a [CSPRNG](https://en.wikipedia.org/wiki/Cryptographically_secure_pseudorandom_number_generator) with one random number and then use the CSPRNG to generate the rest of the private key. This is a lot faster and uses less memory to store the private key.\n",
    "\n",
    "### Private Key Size Comparison\n",
    "\n",
    "Scheme | Private Key | Public Key | Total Size |\n",
    "| --- | --- | --- | --- |\n",
    "| Naive Lamport | $32 * 256 = 8192$ bytes | $32 * 256 = 8192$ bytes | $16384$ bytes |\n",
    "| Short Private Key Lamport | $32 + 16 = 48$ bytes | $32 * 256 = 8192$ bytes | $8240$ bytes |\n",
    "\n",
    "By using the *short private key* scheme we can reduce the total size of the private key by ~170x when compared to the *naive* scheme.\n",
    "\n",
    "<!-- (48 / 8192) * 100 = 0.59 percent -->"
   ]
  },
  {
   "cell_type": "code",
   "execution_count": 114,
   "metadata": {},
   "outputs": [],
   "source": [
    "####### CONSTANTS #######\n",
    "\n",
    "# Provides roughly 128 bits of security (see Grover's algorithm)\n",
    "security_parameter = 256 # 32 bytes\n",
    "\n",
    "# Max message length that the private key can sign\n",
    "max_message_length = 256 # 32 bytes"
   ]
  },
  {
   "attachments": {},
   "cell_type": "markdown",
   "metadata": {},
   "source": [
    "## AES CSPRNG\n",
    "\n",
    "For this example implementation we will use the [AES](https://en.wikipedia.org/wiki/Advanced_Encryption_Standard) cipher in [Counter Mode](https://en.wikipedia.org/wiki/Block_cipher_mode_of_operation#Counter_(CTR)) as our [CSPRNG](https://en.wikipedia.org/wiki/Cryptographically_secure_pseudorandom_number_generator#Designs_based_on_cryptographic_primitives). "
   ]
  },
  {
   "cell_type": "code",
   "execution_count": 115,
   "metadata": {},
   "outputs": [],
   "source": [
    "CSPRNG_key = secrets.token_bytes(security_parameter // 8) # Private key is a random number (can be reused as long as nonce changes)\n",
    "CSPRNG_nonce = secrets.token_bytes(16) # Nonce is a random number used only once\n",
    "\n",
    "# Create a AES256 cipher object using counter mode\n",
    "cipher = Cipher(algorithms.AES256(CSPRNG_key), modes.CTR(CSPRNG_nonce))"
   ]
  },
  {
   "cell_type": "code",
   "execution_count": 116,
   "metadata": {},
   "outputs": [],
   "source": [
    "def hash_key_element(key_element: bytes) -> bytes:\n",
    "    '''Hashes a single key element, producing a 256-bit digest'''\n",
    "\n",
    "    return hashlib.sha3_256(key_element).digest()\n",
    "\n",
    "\n",
    "def generate_public_key(private_key: list) -> list:\n",
    "    '''Generates a public Lamport key from a private key'''\n",
    "\n",
    "    # Generate public key by hashing each private key element\n",
    "    return list(map(hash_key_element, private_key))\n",
    "\n",
    "\n",
    "enc = cipher.encryptor()\n",
    "zero_bytes = (0).to_bytes(length=32, byteorder='big')\n",
    "private_key = [enc.update(zero_bytes) for _ in range(2 * max_message_length)]\n",
    "public_key = generate_public_key(private_key)"
   ]
  }
 ],
 "metadata": {
  "kernelspec": {
   "display_name": "Python 3",
   "language": "python",
   "name": "python3"
  },
  "language_info": {
   "codemirror_mode": {
    "name": "ipython",
    "version": 3
   },
   "file_extension": ".py",
   "mimetype": "text/x-python",
   "name": "python",
   "nbconvert_exporter": "python",
   "pygments_lexer": "ipython3",
   "version": "3.10.4"
  },
  "orig_nbformat": 4,
  "vscode": {
   "interpreter": {
    "hash": "2ab98c4b59af728aa8bd9922870b996a7fc5861c87b81242319b92eec59b5fef"
   }
  }
 },
 "nbformat": 4,
 "nbformat_minor": 2
}
