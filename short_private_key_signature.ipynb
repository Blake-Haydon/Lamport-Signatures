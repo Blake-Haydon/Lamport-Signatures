{
 "cells": [
  {
   "cell_type": "code",
   "execution_count": 1,
   "metadata": {},
   "outputs": [],
   "source": [
    "import hashlib\n",
    "import secrets\n",
    "from cryptography.hazmat.primitives.ciphers import Cipher, algorithms, modes"
   ]
  },
  {
   "attachments": {},
   "cell_type": "markdown",
   "metadata": {},
   "source": [
    "# Short Private Key Lamport Signatures\n",
    "\n",
    "Instead of generating private keys using 256 random numbers we can instead seed a [CSPRNG](https://en.wikipedia.org/wiki/Cryptographically_secure_pseudorandom_number_generator) with one random number and then use the CSPRNG to generate the rest of the private key. This is a lot faster and uses less memory to store the private key.\n",
    "\n",
    "### Key Size Comparison\n",
    "\n",
    "| Scheme | Private Key | Public Key | Total Size |\n",
    "| --- | --- | --- | --- |\n",
    "| Lamport: Naive | $32 * 256 = 8192$ bytes | $32 * 256 = 8192$ bytes | $16384$ bytes |\n",
    "| Lamport: Short Private Key | $32 + 16 = 48$ bytes | $32 * 256 = 8192$ bytes | $8240$ bytes |\n",
    "\n",
    "By using the *short private key* scheme we can reduce the total size of the private key by ~170x when compared to the *naive* scheme.\n",
    "\n",
    "<!-- (48 / 8192) * 100 = 0.59 percent -->\n",
    "\n",
    "### Signature Size Comparison\n",
    "\n",
    "| Scheme | Signature |\n",
    "| --- | --- |\n",
    "| Lamport: Naive | $32 * 256 = 8192$ bytes |\n",
    "| Lamport: Short Private Key | $32 * 256 = 8192$ bytes |\n",
    "\n",
    "There is no difference to the signature size between the two schemes. The signature size is always $32 * 256 = 8192$ bytes as we must include the hash of all used private key elements.\n"
   ]
  },
  {
   "cell_type": "code",
   "execution_count": 2,
   "metadata": {},
   "outputs": [],
   "source": [
    "####### CONSTANTS #######\n",
    "\n",
    "# Provides roughly 128 bits of security (see Grover's algorithm)\n",
    "security_parameter = 256 # 32 bytes\n",
    "\n",
    "# Max message length that the private key can sign\n",
    "max_message_length = 256 # 32 bytes"
   ]
  },
  {
   "attachments": {},
   "cell_type": "markdown",
   "metadata": {},
   "source": [
    "### Helper Functions"
   ]
  },
  {
   "cell_type": "code",
   "execution_count": 3,
   "metadata": {},
   "outputs": [],
   "source": [
    "def hash_key_element(key_element: bytes) -> bytes:\n",
    "    '''Hashes a single key element, producing a 256-bit digest'''\n",
    "\n",
    "    return hashlib.sha3_256(key_element).digest()\n",
    "\n",
    "\n",
    "def expand_private_key(private_key: dict) -> list:\n",
    "    '''Expands a private key in the form of a CSPRNG key and nonce into a list of private key elements '''\n",
    "\n",
    "    # Create a AES256 cipher object using counter mode\n",
    "    cipher = Cipher(algorithms.AES256(private_key['key']), modes.CTR(private_key['nonce']))\n",
    "    zero_bytes = (0).to_bytes(length=32, byteorder='big')\n",
    "    enc = cipher.encryptor()\n",
    "\n",
    "    return [enc.update(zero_bytes) for _ in range(max_message_length * 2)]\n",
    "\n",
    "\n",
    "def hash_message(message: str) -> bytes:\n",
    "    '''Hashes a message using SHA3-256'''\n",
    "\n",
    "    return hashlib.sha3_256(message.encode()).digest()\n",
    "\n",
    "\n",
    "def choose_key_elements(message_hash: bytes, key: list) -> list:\n",
    "    '''Chooses the key elements depending on input message hash bits (either 1 or 0)'''\n",
    "    \n",
    "    output = []\n",
    "    for i in range(max_message_length // 8):\n",
    "        for j in range(8):\n",
    "            bit_index = i * 8 + j\n",
    "            bit_mask = 0b10000000 >> j\n",
    "\n",
    "            # Determine which key to use based on the message hash bit\n",
    "            key_bit = int(message_hash[i] & bit_mask != 0) # either 0 or 1\n",
    "            key_index = 2*bit_index + key_bit\n",
    "            \n",
    "            # Add the key elements to output\n",
    "            output.append(key[key_index])\n",
    "\n",
    "    return output"
   ]
  },
  {
   "attachments": {},
   "cell_type": "markdown",
   "metadata": {},
   "source": [
    "## AES CSPRNG\n",
    "\n",
    "For this example implementation we will use the [AES](https://en.wikipedia.org/wiki/Advanced_Encryption_Standard) cipher in [Counter Mode](https://en.wikipedia.org/wiki/Block_cipher_mode_of_operation#Counter_(CTR)) as our [CSPRNG](https://en.wikipedia.org/wiki/Cryptographically_secure_pseudorandom_number_generator#Designs_based_on_cryptographic_primitives). "
   ]
  },
  {
   "cell_type": "code",
   "execution_count": 4,
   "metadata": {},
   "outputs": [],
   "source": [
    "def generate_private_key() -> dict:\n",
    "    '''Generates a private Lamport key (CSPRNG key and nonce)'''\n",
    "\n",
    "    # Private key is a random number (can be reused as long as nonce changes)\n",
    "    CSPRNG_key = secrets.token_bytes(security_parameter // 8) \n",
    "    \n",
    "    # Nonce is a random number used only once\n",
    "    CSPRNG_nonce = secrets.token_bytes(16) \n",
    "\n",
    "    return {'key': CSPRNG_key, 'nonce': CSPRNG_nonce}\n",
    "\n",
    "\n",
    "def generate_public_key(private_key: list) -> list:\n",
    "    '''Generates a public Lamport key from a private key'''\n",
    "\n",
    "    # Generate public key by hashing each private key element\n",
    "    return list(map(hash_key_element, private_key))\n",
    "\n",
    "\n",
    "def generate_public_key(private_key: dict) -> list:\n",
    "    '''Generates a public Lamport key from a private key'''\n",
    "\n",
    "    expanded_private_key = expand_private_key(private_key)\n",
    "\n",
    "    # Generate public key by hashing each private key element\n",
    "    return list(map(hash_key_element, expanded_private_key))\n",
    "\n",
    "\n",
    "def generate_keypair() -> tuple:\n",
    "    '''Generates a public and private Lamport keypair'''\n",
    "\n",
    "    # Generate the private key from random bits\n",
    "    private_key = generate_private_key()\n",
    "\n",
    "    # Generate public key by hashing each private key element\n",
    "    public_key = generate_public_key(private_key)\n",
    "\n",
    "    return (public_key, private_key)\n",
    "\n",
    "\n",
    "def sign_message(message: str, private_key: dict):\n",
    "    '''Signs a message with a Lamport private key'''\n",
    "\n",
    "    # Hash the message and then commit to that hash using the private key\n",
    "    message_hash = hash_message(message)\n",
    "\n",
    "    # Choose private key elements depending on the bits of the message hash\n",
    "    expanded_private_key = expand_private_key(private_key)\n",
    "    return choose_key_elements(message_hash, expanded_private_key)\n",
    "\n",
    "\n",
    "def verify_signature(message: str, public_key: list, signature: list) -> bool:\n",
    "    '''Verifies a Lamport signature'''\n",
    "    \n",
    "    # Hash the message and then check that the hash of the signature matches the public key\n",
    "    message_hash = hash_message(message)\n",
    "\n",
    "    chosen_signature_hashes = choose_key_elements(message_hash, public_key)\n",
    "    derived_signature_hashes = list(map(hash_key_element, signature))\n",
    "\n",
    "    return chosen_signature_hashes == derived_signature_hashes"
   ]
  },
  {
   "cell_type": "code",
   "execution_count": 5,
   "metadata": {},
   "outputs": [
    {
     "name": "stdout",
     "output_type": "stream",
     "text": [
      "Signature is correct!\n"
     ]
    }
   ],
   "source": [
    "signed_string = \"Hello, world!\"\n",
    "public_key, private_key = generate_keypair()\n",
    "signature = sign_message(signed_string, private_key)\n",
    "if verify_signature(signed_string, public_key, signature):\n",
    "    print(\"Signature is correct!\")\n",
    "else:\n",
    "    print(\"Signature is incorrect!\")"
   ]
  }
 ],
 "metadata": {
  "kernelspec": {
   "display_name": "Python 3",
   "language": "python",
   "name": "python3"
  },
  "language_info": {
   "codemirror_mode": {
    "name": "ipython",
    "version": 3
   },
   "file_extension": ".py",
   "mimetype": "text/x-python",
   "name": "python",
   "nbconvert_exporter": "python",
   "pygments_lexer": "ipython3",
   "version": "3.10.4"
  },
  "orig_nbformat": 4,
  "vscode": {
   "interpreter": {
    "hash": "2ab98c4b59af728aa8bd9922870b996a7fc5861c87b81242319b92eec59b5fef"
   }
  }
 },
 "nbformat": 4,
 "nbformat_minor": 2
}
