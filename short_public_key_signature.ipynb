{
 "cells": [
  {
   "cell_type": "code",
   "execution_count": 1,
   "metadata": {},
   "outputs": [],
   "source": [
    "import hashlib\n",
    "import secrets\n",
    "from cryptography.hazmat.primitives.ciphers import Cipher, algorithms, modes"
   ]
  },
  {
   "attachments": {},
   "cell_type": "markdown",
   "metadata": {},
   "source": [
    "# Short Public Key Lamport Signatures\n",
    "\n",
    "In order to shrink the size of the public key we can use a vector commitment to the public key elements.\n",
    "\n",
    "![Public Key Merkle Root](./images/public_key_merkle_root.png)\n",
    "\n",
    "### Key Size Comparison\n",
    "\n",
    "| Scheme | Private Key | Public Key | Total Size |\n",
    "| --- | --- | --- | --- |\n",
    "| Lamport: Naive | $32 * 256 = 8192$ bytes | $32 * 256 = 8192$ bytes | $16384$ bytes |\n",
    "| Lamport: Short Private Key | $32 + 16 = 48$ bytes | $32 * 256 = 8192$ bytes | $8240$ bytes |\n",
    "| Lamport: Short Public Key | $32 * 256 = 8192$ bytes | $32$ bytes | $8224$ bytes |\n",
    "\n",
    "By using a vector commitment (Merkle root) to the public key elements we can reduce the size of the public key to 32 bytes. By using this method we make the public key 256x smaller compared to the *naive* method. \n",
    "\n",
    "### Signature Size Comparison\n",
    "\n",
    "| Scheme | Signature |\n",
    "| --- | --- |\n",
    "| Lamport: Naive | $32 * 256 = 8192$ bytes |\n",
    "| Lamport: Short Private Key | $32 * 256 = 8192$ bytes |\n",
    "| Lamport: Short Public Key | $32 * 256 + 32 * 256 = 16348$ bytes |\n",
    "\n",
    "A downsize of reducing the size of the public key is that the signature size increases. This is because we now must place the public key elements in the signature."
   ]
  },
  {
   "cell_type": "code",
   "execution_count": 2,
   "metadata": {},
   "outputs": [],
   "source": [
    "####### CONSTANTS #######\n",
    "\n",
    "# Provides roughly 128 bits of security (see Grover's algorithm)\n",
    "security_parameter = 256 # 32 bytes\n",
    "\n",
    "# Max message length that the private key can sign\n",
    "max_message_length = 256 # 32 bytes\n",
    "\n",
    "\n",
    "####### TYPE DEFINITIONS #######    \n",
    "PrivateKey = list[bytes]\n",
    "PublicKey = bytes\n",
    "Signature = list[bytes]"
   ]
  },
  {
   "attachments": {},
   "cell_type": "markdown",
   "metadata": {},
   "source": [
    "### Helper Functions"
   ]
  },
  {
   "cell_type": "code",
   "execution_count": 3,
   "metadata": {},
   "outputs": [],
   "source": [
    "def hash_bytes(b: bytes) -> bytes:\n",
    "    '''Hashes bytes producing a 256-bit digest'''\n",
    "    \n",
    "    return hashlib.sha3_256(b).digest()\n",
    "\n",
    "\n",
    "def hash_message(message: str) -> bytes:\n",
    "    '''Hashes a message using SHA3-256'''\n",
    "\n",
    "    return hashlib.sha3_256(message.encode()).digest()\n",
    "\n",
    "\n",
    "def convert_bytes_to_bits(b: bytes) -> list[bool]:\n",
    "    '''Converts bytes to a list of bits'''\n",
    "    \n",
    "    output = []\n",
    "    for i in range(len(b)):\n",
    "        for j in range(8):\n",
    "            bit_mask = 0b10000000 >> j\n",
    "            output.append(b[i] & bit_mask != 0)\n",
    "            \n",
    "    return output\n",
    "\n",
    "\n",
    "def merkle_root(ls: list[bytes]) -> bytes:\n",
    "    '''Computes the Merkle root of a list of bytes. The list must have a length of 2^n.'''\n",
    "\n",
    "    # Base case: Return the a single leaf element\n",
    "    # IMPORTANT: The leaf element is not hashed!\n",
    "    if len(ls) == 1:\n",
    "        return ls[0]\n",
    "\n",
    "    # Recursive case: Hash the left and right subtrees\n",
    "    left_subtree = merkle_root(ls[:len(ls)//2])\n",
    "    right_subtree = merkle_root(ls[len(ls)//2:])\n",
    "    return hash_bytes(left_subtree + right_subtree)"
   ]
  },
  {
   "cell_type": "code",
   "execution_count": 4,
   "metadata": {},
   "outputs": [],
   "source": [
    "def generate_private_key() -> PrivateKey:\n",
    "    '''Generates a private Lamport key'''\n",
    "\n",
    "    # Generate the private key from random bits\n",
    "    return [secrets.token_bytes(security_parameter // 8) for _ in range(2 * max_message_length)]\n",
    "\n",
    "\n",
    "def generate_public_key(private_key: PrivateKey) -> PublicKey:\n",
    "    '''Generates a public Lamport key from a private key'''\n",
    "\n",
    "    # Generate expanded public key by hashing each private key element\n",
    "    expanded_public_key = list(map(hash_bytes, private_key))\n",
    "\n",
    "    # Use the merkle root of the expanded public key as the public key (essentially vector commitment)\n",
    "    return merkle_root(expanded_public_key)\n",
    "\n",
    "\n",
    "def generate_keypair() -> tuple[PublicKey, PrivateKey]:\n",
    "    '''Generates a public and private Lamport keypair'''\n",
    "\n",
    "    private_key = generate_private_key()\n",
    "    public_key = generate_public_key(private_key)\n",
    "\n",
    "    return (public_key, private_key)\n",
    "\n",
    "\n",
    "def sign_message(message: str, private_key: PrivateKey) -> Signature:\n",
    "    '''Signs a message with a Lamport private key'''\n",
    "\n",
    "    # Hash the message and then commit to that hash using the private key\n",
    "    message_hash = hash_message(message)\n",
    "    message_bits = convert_bytes_to_bits(message_hash)\n",
    "\n",
    "    # Signature is collection of public and private key elements in array\n",
    "    signature = []\n",
    "    for i in range(len(message_bits)):\n",
    "        # 0th row\n",
    "        if message_bits[i] == False: \n",
    "            signature.append(private_key[2*i])\n",
    "            signature.append(hash_bytes(private_key[2*i + 1]))\n",
    "        # 1st row\n",
    "        else: \n",
    "            signature.append(hash_bytes(private_key[2*i]))\n",
    "            signature.append(private_key[2*i + 1])\n",
    "\n",
    "    return signature\n",
    "\n",
    "\n",
    "def verify_signature(message: str, public_key: PublicKey, signature: Signature) -> bool:\n",
    "    '''Verifies a Lamport signature'''\n",
    "    \n",
    "    # Hash the message and then check that the hash of the signature matches the public key\n",
    "    message_hash = hash_message(message)\n",
    "    message_bits = convert_bytes_to_bits(message_hash)\n",
    "\n",
    "    modified_signature = signature.copy()\n",
    "    for i in range(len(message_bits)):\n",
    "        # 0th row\n",
    "        if message_bits[i] == False: \n",
    "            modified_signature[2*i] = hash_bytes(modified_signature[2*i])\n",
    "        # 1st row\n",
    "        else: \n",
    "            modified_signature[2*i + 1] = hash_bytes(modified_signature[2*i + 1])\n",
    "\n",
    "    # Encuse that the signiture is matches the vector commitment\n",
    "    return public_key == merkle_root(modified_signature)"
   ]
  },
  {
   "cell_type": "code",
   "execution_count": 5,
   "metadata": {},
   "outputs": [
    {
     "name": "stdout",
     "output_type": "stream",
     "text": [
      "Signature is correct!\n"
     ]
    }
   ],
   "source": [
    "signed_string = \"Hello, world!\"\n",
    "public_key, private_key = generate_keypair()\n",
    "signature = sign_message(signed_string, private_key)\n",
    "if verify_signature(signed_string, public_key, signature):\n",
    "    print(\"Signature is correct!\")\n",
    "else:\n",
    "    print(\"Signature is incorrect!\")"
   ]
  },
  {
   "cell_type": "code",
   "execution_count": 6,
   "metadata": {},
   "outputs": [
    {
     "name": "stdout",
     "output_type": "stream",
     "text": [
      "Forgery is incorrect!\n"
     ]
    }
   ],
   "source": [
    "# Try and forge a signature by using the same private key for a different message\n",
    "random_signature = [secrets.token_bytes(security_parameter // 8) for _ in range(max_message_length * 2)]\n",
    "if verify_signature(signed_string, public_key, random_signature):\n",
    "    print(\"Forgery is correct!\")\n",
    "else:\n",
    "    print(\"Forgery is incorrect!\")"
   ]
  }
 ],
 "metadata": {
  "kernelspec": {
   "display_name": "Python 3",
   "language": "python",
   "name": "python3"
  },
  "language_info": {
   "codemirror_mode": {
    "name": "ipython",
    "version": 3
   },
   "file_extension": ".py",
   "mimetype": "text/x-python",
   "name": "python",
   "nbconvert_exporter": "python",
   "pygments_lexer": "ipython3",
   "version": "3.10.4"
  },
  "orig_nbformat": 4,
  "vscode": {
   "interpreter": {
    "hash": "2ab98c4b59af728aa8bd9922870b996a7fc5861c87b81242319b92eec59b5fef"
   }
  }
 },
 "nbformat": 4,
 "nbformat_minor": 2
}
